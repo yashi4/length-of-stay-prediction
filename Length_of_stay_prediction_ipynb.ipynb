{
  "cells": [
    {
      "cell_type": "markdown",
      "metadata": {
        "id": "view-in-github",
        "colab_type": "text"
      },
      "source": [
        "<a href=\"https://colab.research.google.com/github/yashi4/length-of-stay-prediction/blob/main/Length_of_stay_prediction_ipynb.ipynb\" target=\"_parent\"><img src=\"https://colab.research.google.com/assets/colab-badge.svg\" alt=\"Open In Colab\"/></a>"
      ]
    },
    {
      "cell_type": "code",
      "execution_count": null,
      "metadata": {
        "id": "lEf6DfmugebU"
      },
      "outputs": [],
      "source": []
    },
    {
      "cell_type": "code",
      "execution_count": null,
      "metadata": {
        "colab": {
          "base_uri": "https://localhost:8080/"
        },
        "id": "QSE8kGpHQ_u8",
        "outputId": "2c98113e-71c7-4b3e-af10-a3b595122e61"
      },
      "outputs": [
        {
          "output_type": "stream",
          "name": "stdout",
          "text": [
            "cp: cannot stat 'kaggle.json': No such file or directory\n",
            "chmod: cannot access '/root/.kaggle/kaggle.json': No such file or directory\n"
          ]
        }
      ],
      "source": [
        "#Commands to access the datasets on Kaggle\n",
        "#Make a seperate directory for kaggle and give access for Kaggle to export datasets\n",
        "! mkdir ~/.kaggle\n",
        "! cp kaggle.json ~/.kaggle/\n",
        "! chmod 600 ~/.kaggle/kaggle.json"
      ]
    },
    {
      "cell_type": "code",
      "execution_count": null,
      "metadata": {
        "colab": {
          "base_uri": "https://localhost:8080/"
        },
        "id": "_s_SN08uZ-t_",
        "outputId": "908e7764-682b-4af9-807d-fa3b0534d9c9"
      },
      "outputs": [
        {
          "output_type": "stream",
          "name": "stdout",
          "text": [
            "Dataset URL: https://www.kaggle.com/datasets/omkarmanohardalvi/lungs-disease-dataset-4-types\n",
            "License(s): unknown\n",
            "Downloading lungs-disease-dataset-4-types.zip to /content\n",
            "100% 2.02G/2.02G [01:37<00:00, 22.2MB/s]\n",
            "100% 2.02G/2.02G [01:37<00:00, 22.2MB/s]\n"
          ]
        }
      ],
      "source": [
        "#Download the dataset\n",
        "!kaggle datasets download -d omkarmanohardalvi/lungs-disease-dataset-4-types"
      ]
    },
    {
      "cell_type": "code",
      "execution_count": null,
      "metadata": {
        "id": "KMTH_3kjgiuM"
      },
      "outputs": [],
      "source": [
        "# Import essential libraries\n",
        "import numpy as np\n",
        "import matplotlib.pyplot as plt\n",
        "from tensorflow.keras.preprocessing.image import ImageDataGenerator\n",
        "from tensorflow.keras.applications import VGG16\n",
        "from tensorflow.keras.models import Model\n",
        "from tensorflow.keras.layers import Dense, Flatten, Dropout\n",
        "from tensorflow.keras.optimizers import Adam\n",
        "from tensorflow.keras.callbacks import EarlyStopping\n",
        "from tensorflow.keras.callbacks import ModelCheckpoint\n",
        "import pandas as pd\n",
        "import tensorflow as tf\n",
        "from tensorflow.keras import layers\n",
        "import random\n"
      ]
    },
    {
      "cell_type": "code",
      "execution_count": null,
      "metadata": {
        "id": "1L0scLnuRSid"
      },
      "outputs": [],
      "source": [
        "#Unzipping the zipfile of images\n",
        "import zipfile\n",
        "\n",
        "data_zip = zipfile.ZipFile('/content/lungs-disease-dataset-4-types.zip')\n",
        "data_zip.extractall()\n",
        "data_zip.close()"
      ]
    },
    {
      "cell_type": "markdown",
      "metadata": {
        "id": "emOymWk_V1D7"
      },
      "source": [
        "There are two folders in the datasets- One with original images and the other with augmented images.\n",
        "\n",
        "Seperate them by assigning them as testing and training, respectively."
      ]
    },
    {
      "cell_type": "code",
      "execution_count": null,
      "metadata": {
        "id": "hLGyAIUvRvp3"
      },
      "outputs": [],
      "source": [
        "#Create seperate directories for training and testing images.\n",
        "\n",
        "train_dir = '/content/Lung Disease Dataset/train'\n",
        "test_dir = '/content/Lung Disease Dataset/test'"
      ]
    },
    {
      "cell_type": "code",
      "execution_count": null,
      "metadata": {
        "colab": {
          "base_uri": "https://localhost:8080/"
        },
        "id": "Kpk-pbGJfCU7",
        "outputId": "872f9494-db31-46d9-b3fe-7a9d3c28dc89"
      },
      "outputs": [
        {
          "output_type": "stream",
          "name": "stdout",
          "text": [
            "Mounted at /content/drive\n"
          ]
        }
      ],
      "source": [
        "from google.colab import drive\n",
        "drive.mount('/content/drive')"
      ]
    },
    {
      "cell_type": "markdown",
      "metadata": {
        "id": "rOOO47XcWvUK"
      },
      "source": [
        "The images are further partitioned into training and validation images with 80% training and 20% validation."
      ]
    },
    {
      "cell_type": "markdown",
      "metadata": {
        "id": "LRssc6Wr4a-f"
      },
      "source": [
        "DATA PREPROCESSING"
      ]
    },
    {
      "cell_type": "code",
      "execution_count": null,
      "metadata": {
        "id": "f3l6i_0haKbY"
      },
      "outputs": [],
      "source": [
        "\n",
        "\n",
        "train_datagen = ImageDataGenerator(rescale = 1/255. , validation_split = 0.2)\n",
        "test_datagen = ImageDataGenerator(rescale = 1/255.)"
      ]
    },
    {
      "cell_type": "code",
      "execution_count": null,
      "metadata": {
        "colab": {
          "base_uri": "https://localhost:8080/"
        },
        "id": "wFHKbzXVd1ka",
        "outputId": "6b008444-089e-4b2a-cbb1-5208edf49dd7"
      },
      "outputs": [
        {
          "output_type": "stream",
          "name": "stdout",
          "text": [
            "Found 4845 images belonging to 5 classes.\n",
            "Found 1209 images belonging to 5 classes.\n",
            "Found 2025 images belonging to 5 classes.\n"
          ]
        }
      ],
      "source": [
        "train_data = train_datagen.flow_from_directory(train_dir ,\n",
        "                                               target_size = (224 , 224),    #Set image size.\n",
        "                                               batch_size = 32,              #Set appropriate batch size to avoid overfitting.\n",
        "                                               class_mode = 'categorical',   #Set type of labels.\n",
        "                                               subset = 'training')\n",
        "\n",
        "valid_data = train_datagen.flow_from_directory(train_dir,\n",
        "                                               target_size = (224 , 224),\n",
        "                                               batch_size = 32,\n",
        "                                               class_mode = 'categorical',\n",
        "                                               subset = 'validation')\n",
        "\n",
        "test_data = test_datagen.flow_from_directory(test_dir,\n",
        "                                             target_size = (224 , 224),         #Images from the OriginalDataset directory to be used for testing only\n",
        "                                             batch_size = 32,\n",
        "                                             class_mode = 'categorical')"
      ]
    },
    {
      "cell_type": "code",
      "execution_count": null,
      "metadata": {
        "id": "0e_qf5PYj051"
      },
      "outputs": [],
      "source": [
        "#Define a function to plot the loss and accuracy curves of model training for better visualization.\n",
        "\n",
        "def loss_and_accuracy(history):\n",
        "\n",
        "  loss = history.history['loss']\n",
        "  val_loss = history.history['val_loss']\n",
        "\n",
        "  accuracy = history.history['accuracy']\n",
        "  val_accuracy = history.history['val_accuracy']\n",
        "\n",
        "  epochs = range(len(history.history['loss']))\n",
        "\n",
        "  plt.plot(epochs , loss , label = 'Training Loss')\n",
        "  plt.plot(epochs , val_loss , label = 'Validation Loss')            #Loss curve\n",
        "  plt.title('Loss Curve')\n",
        "  plt.xlabel('epochs')\n",
        "  plt.legend()\n",
        "  plt.savefig('Loss_Curve.jpg')\n",
        "\n",
        "  plt.figure()\n",
        "\n",
        "  plt.plot(epochs , accuracy , label = 'training_accuracy')\n",
        "  plt.plot(epochs , val_accuracy , label = 'validation_accuracy')    #Accuracy curve\n",
        "  plt.title('Accuracy Curve')\n",
        "  plt.yticks([0,0.2,0.4,0.6,0.8,1])\n",
        "  plt.xlabel('epochs')\n",
        "  plt.legend()\n",
        "  plt.savefig('Accuracy_Curve.jpg')"
      ]
    },
    {
      "cell_type": "code",
      "execution_count": null,
      "metadata": {
        "id": "M-szW0c1t6Qe"
      },
      "outputs": [],
      "source": [
        "#Give the classnames as a list\n",
        "classnames = ['Bacterial Pneumonia' , 'Corona Virus Disease' ,'Normal', 'Tuberculosis','Viral Pneumonia']"
      ]
    },
    {
      "cell_type": "code",
      "execution_count": null,
      "metadata": {
        "id": "y4yXfz8GooF8"
      },
      "outputs": [],
      "source": [
        "#Define a function to prepare an image for prediction\n",
        "\n",
        "def image_prep(filename , img_size = 224):\n",
        "  #Read the image from filename\n",
        "  image = tf.io.read_file(filename)\n",
        "  #Decode the image into its RGB channels\n",
        "  image = tf.image.decode_image(image , channels = 3)\n",
        "  #Resize the image\n",
        "  image = tf.image.resize(image , size = [img_size , img_size])\n",
        "  #Rescale\n",
        "  image = image/255.\n",
        "\n",
        "  return image"
      ]
    },
    {
      "cell_type": "code",
      "source": [
        "def get_length_of_stay(pred_class):\n",
        "    # Define the cases as a dictionary\n",
        "    cases = {\n",
        "        'Bacterial Pneumonia': lambda: random.randrange(4, 8, 1),\n",
        "        'Corona Virus Disease': lambda: random.randrange(10, 20, 1),\n",
        "        'Normal': lambda: 0,\n",
        "        'Tuberculosis': lambda: random.randrange(62, 77, 1),\n",
        "        'Viral Pneumonia': lambda: random.randrange(30, 61, 1),\n",
        "    }\n",
        "    return los"
      ],
      "metadata": {
        "id": "_jfq_cLepCdi"
      },
      "execution_count": null,
      "outputs": []
    },
    {
      "cell_type": "code",
      "execution_count": null,
      "metadata": {
        "id": "Wc3KhKbQtxGf"
      },
      "outputs": [],
      "source": [
        "#Define a function to make predictions on the prepared images\n",
        "#Image along with the classified label is shown as output\n",
        "\n",
        "def make_predictions(model , filename , classnames):\n",
        "  #Load the image\n",
        "  image = image_prep(filename)\n",
        "  #Run the model on the image\n",
        "  pred = model.predict(tf.expand_dims(image , axis=0))\n",
        "  #Zero down on the class\n",
        "  pred_class = classnames[tf.argmax(tf.round(pred)[0])]\n",
        "  #Show the image and the label\n",
        "  los=get_length_of_stay(pred_class)\n",
        "  print(los)\n",
        "  plt.imshow(image)\n",
        "  plt.title(f'Predicted class: {pred_class}')\n",
        "  plt.axis(False)\n",
        "\n"
      ]
    },
    {
      "cell_type": "code",
      "execution_count": null,
      "metadata": {
        "colab": {
          "base_uri": "https://localhost:8080/"
        },
        "id": "Xl9mQhKSfxXw",
        "outputId": "af9db98a-cc96-4cb3-a50a-c067660306a2"
      },
      "outputs": [
        {
          "output_type": "stream",
          "name": "stdout",
          "text": [
            "Downloading data from https://storage.googleapis.com/tensorflow/keras-applications/vgg16/vgg16_weights_tf_dim_ordering_tf_kernels_notop.h5\n",
            "\u001b[1m58889256/58889256\u001b[0m \u001b[32m━━━━━━━━━━━━━━━━━━━━\u001b[0m\u001b[37m\u001b[0m \u001b[1m4s\u001b[0m 0us/step\n"
          ]
        }
      ],
      "source": [
        "# Load VGG16 model without the top layers\n",
        "base_model = VGG16(weights='imagenet', include_top=False, input_shape=(224, 224, 3))\n",
        "\n",
        "# Freeze the layers of VGG16\n",
        "for layer in base_model.layers:\n",
        "    layer.trainable = False\n",
        "\n",
        "# Add custom layers on top\n",
        "x = base_model.output\n",
        "x = Flatten()(x)  # Flatten the output of VGG16\n",
        "x = Dense(256, activation='relu')(x)  # Add a fully connected layer\n",
        "x = Dropout(0.5)(x)  # Add dropout for regularization\n",
        "predictions = Dense(5, activation='softmax')(x)  # 4 classes for output\n",
        "\n",
        "# Create the complete model\n",
        "model = Model(inputs=base_model.input, outputs=predictions)\n"
      ]
    },
    {
      "cell_type": "code",
      "execution_count": null,
      "metadata": {
        "id": "JsK2g3FVhR6I"
      },
      "outputs": [],
      "source": [
        "# Compile the model\n",
        "model.compile(optimizer=Adam(learning_rate=0.0001),  # Adjust learning rate if needed\n",
        "              loss='categorical_crossentropy',  # Loss for multi-class classification\n",
        "              metrics=['accuracy'])\n"
      ]
    },
    {
      "cell_type": "code",
      "execution_count": null,
      "metadata": {
        "colab": {
          "base_uri": "https://localhost:8080/"
        },
        "id": "DlZ-ixdAhR2J",
        "outputId": "450ca040-f540-4e8a-daee-f2a7abd423ca"
      },
      "outputs": [
        {
          "output_type": "stream",
          "name": "stderr",
          "text": [
            "/usr/local/lib/python3.10/dist-packages/keras/src/trainers/data_adapters/py_dataset_adapter.py:121: UserWarning: Your `PyDataset` class should call `super().__init__(**kwargs)` in its constructor. `**kwargs` can include `workers`, `use_multiprocessing`, `max_queue_size`. Do not pass these arguments to `fit()`, as they will be ignored.\n",
            "  self._warn_if_super_not_called()\n",
            "/usr/lib/python3.10/contextlib.py:153: UserWarning: Your input ran out of data; interrupting training. Make sure that your dataset or generator can generate at least `steps_per_epoch * epochs` batches. You may need to use the `.repeat()` function when building your dataset.\n",
            "  self.gen.throw(typ, value, traceback)\n"
          ]
        }
      ],
      "source": [
        "# Set up early stopping\n",
        "early_stopping = EarlyStopping(monitor='val_loss', patience=3, restore_best_weights=True)\n",
        "\n",
        "# Train the model\n",
        "history_1 = model.fit(train_data,\n",
        "                    epochs=25,\n",
        "                    steps_per_epoch = 100,\n",
        "                    validation_data = valid_data,\n",
        "                    callbacks = [early_stopping],\n",
        "                    verbose = 0)\n"
      ]
    },
    {
      "cell_type": "code",
      "execution_count": null,
      "metadata": {
        "id": "26qu8Y4n8sxQ"
      },
      "outputs": [],
      "source": []
    },
    {
      "cell_type": "code",
      "execution_count": null,
      "metadata": {
        "id": "syAR0kv0kCPJ",
        "colab": {
          "base_uri": "https://localhost:8080/"
        },
        "outputId": "28a19ecc-1676-40f5-f037-aebaf66c8bf3"
      },
      "outputs": [
        {
          "output_type": "execute_result",
          "data": {
            "text/plain": [
              "19"
            ]
          },
          "metadata": {},
          "execution_count": 25
        }
      ],
      "source": [
        "len(history_1.history['loss'])"
      ]
    },
    {
      "cell_type": "code",
      "execution_count": null,
      "metadata": {
        "id": "KMxWXVgwkFzl",
        "colab": {
          "base_uri": "https://localhost:8080/"
        },
        "outputId": "8fee81f8-8c6d-4c08-f0d4-7f2ee7c605bd"
      },
      "outputs": [
        {
          "output_type": "stream",
          "name": "stdout",
          "text": [
            "\u001b[1m152/152\u001b[0m \u001b[32m━━━━━━━━━━━━━━━━━━━━\u001b[0m\u001b[37m\u001b[0m \u001b[1m50s\u001b[0m 327ms/step - accuracy: 0.9300 - loss: 0.2027\n"
          ]
        },
        {
          "output_type": "execute_result",
          "data": {
            "text/plain": [
              "[0.19769525527954102, 0.9306501746177673]"
            ]
          },
          "metadata": {},
          "execution_count": 26
        }
      ],
      "source": [
        "model.evaluate(train_data)"
      ]
    },
    {
      "cell_type": "code",
      "execution_count": null,
      "metadata": {
        "id": "io5y4zjghf8R",
        "colab": {
          "base_uri": "https://localhost:8080/",
          "height": 927
        },
        "outputId": "5917af0e-c1a2-4c20-c8de-45de71a1295e"
      },
      "outputs": [
        {
          "output_type": "display_data",
          "data": {
            "text/plain": [
              "<Figure size 640x480 with 1 Axes>"
            ],
            "image/png": "[encoded data removed]"
          },
          "metadata": {}
        },
        {
          "output_type": "display_data",
          "data": {
            "text/plain": [
              "<Figure size 640x480 with 1 Axes>"
            ],
            "image/png": "[encoded data removed]"
          },
          "metadata": {}
        }
      ],
      "source": [
        "loss_and_accuracy(history = history_1)"
      ]
    },
    {
      "cell_type": "code",
      "execution_count": null,
      "metadata": {
        "id": "Chlb60w3hf4i",
        "colab": {
          "base_uri": "https://localhost:8080/",
          "height": 269
        },
        "outputId": "278770cb-86b1-4c3d-e2c1-faadc4d45a7b"
      },
      "outputs": [
        {
          "output_type": "stream",
          "name": "stdout",
          "text": [
            "\u001b[1m1/1\u001b[0m \u001b[32m━━━━━━━━━━━━━━━━━━━━\u001b[0m\u001b[37m\u001b[0m \u001b[1m0s\u001b[0m 17ms/step\n"
          ]
        },
        {
          "output_type": "error",
          "ename": "NameError",
          "evalue": "name 'los' is not defined",
          "traceback": [
            "\u001b[0;31m---------------------------------------------------------------------------\u001b[0m",
            "\u001b[0;31mNameError\u001b[0m                                 Traceback (most recent call last)",
            "\u001b[0;32m<ipython-input-54-338e595a8a5a>\u001b[0m in \u001b[0;36m<cell line: 1>\u001b[0;34m()\u001b[0m\n\u001b[0;32m----> 1\u001b[0;31m \u001b[0mmake_predictions\u001b[0m\u001b[0;34m(\u001b[0m\u001b[0mmodel\u001b[0m \u001b[0;34m,\u001b[0m \u001b[0;34m'/content/Lung Disease Dataset/test/Tuberculosis/Tuberculosis-101.jpg'\u001b[0m \u001b[0;34m,\u001b[0m \u001b[0mclassnames\u001b[0m \u001b[0;34m)\u001b[0m\u001b[0;34m\u001b[0m\u001b[0;34m\u001b[0m\u001b[0m\n\u001b[0m",
            "\u001b[0;32m<ipython-input-53-2dad6f3ef917>\u001b[0m in \u001b[0;36mmake_predictions\u001b[0;34m(model, filename, classnames)\u001b[0m\n\u001b[1;32m     10\u001b[0m   \u001b[0mpred_class\u001b[0m \u001b[0;34m=\u001b[0m \u001b[0mclassnames\u001b[0m\u001b[0;34m[\u001b[0m\u001b[0mtf\u001b[0m\u001b[0;34m.\u001b[0m\u001b[0margmax\u001b[0m\u001b[0;34m(\u001b[0m\u001b[0mtf\u001b[0m\u001b[0;34m.\u001b[0m\u001b[0mround\u001b[0m\u001b[0;34m(\u001b[0m\u001b[0mpred\u001b[0m\u001b[0;34m)\u001b[0m\u001b[0;34m[\u001b[0m\u001b[0;36m0\u001b[0m\u001b[0;34m]\u001b[0m\u001b[0;34m)\u001b[0m\u001b[0;34m]\u001b[0m\u001b[0;34m\u001b[0m\u001b[0;34m\u001b[0m\u001b[0m\n\u001b[1;32m     11\u001b[0m   \u001b[0;31m#Show the image and the label\u001b[0m\u001b[0;34m\u001b[0m\u001b[0;34m\u001b[0m\u001b[0m\n\u001b[0;32m---> 12\u001b[0;31m   \u001b[0mlos\u001b[0m\u001b[0;34m=\u001b[0m\u001b[0mget_length_of_stay\u001b[0m\u001b[0;34m(\u001b[0m\u001b[0mpred_class\u001b[0m\u001b[0;34m)\u001b[0m\u001b[0;34m\u001b[0m\u001b[0;34m\u001b[0m\u001b[0m\n\u001b[0m\u001b[1;32m     13\u001b[0m   \u001b[0mprint\u001b[0m\u001b[0;34m(\u001b[0m\u001b[0mlos\u001b[0m\u001b[0;34m)\u001b[0m\u001b[0;34m\u001b[0m\u001b[0;34m\u001b[0m\u001b[0m\n\u001b[1;32m     14\u001b[0m   \u001b[0mplt\u001b[0m\u001b[0;34m.\u001b[0m\u001b[0mimshow\u001b[0m\u001b[0;34m(\u001b[0m\u001b[0mimage\u001b[0m\u001b[0;34m)\u001b[0m\u001b[0;34m\u001b[0m\u001b[0;34m\u001b[0m\u001b[0m\n",
            "\u001b[0;32m<ipython-input-52-7969864fd7cf>\u001b[0m in \u001b[0;36mget_length_of_stay\u001b[0;34m(pred_class)\u001b[0m\n\u001b[1;32m      8\u001b[0m         \u001b[0;34m'Viral Pneumonia'\u001b[0m\u001b[0;34m:\u001b[0m \u001b[0;32mlambda\u001b[0m\u001b[0;34m:\u001b[0m \u001b[0mrandom\u001b[0m\u001b[0;34m.\u001b[0m\u001b[0mrandrange\u001b[0m\u001b[0;34m(\u001b[0m\u001b[0;36m30\u001b[0m\u001b[0;34m,\u001b[0m \u001b[0;36m61\u001b[0m\u001b[0;34m,\u001b[0m \u001b[0;36m1\u001b[0m\u001b[0;34m)\u001b[0m\u001b[0;34m,\u001b[0m\u001b[0;34m\u001b[0m\u001b[0;34m\u001b[0m\u001b[0m\n\u001b[1;32m      9\u001b[0m     }\n\u001b[0;32m---> 10\u001b[0;31m     \u001b[0;32mreturn\u001b[0m \u001b[0mlos\u001b[0m\u001b[0;34m\u001b[0m\u001b[0;34m\u001b[0m\u001b[0m\n\u001b[0m",
            "\u001b[0;31mNameError\u001b[0m: name 'los' is not defined"
          ]
        }
      ],
      "source": [
        "make_predictions(model , '/content/Lung Disease Dataset/test/Tuberculosis/Tuberculosis-101.jpg' , classnames )"
      ]
    }
  ],
  "metadata": {
    "accelerator": "GPU",
    "colab": {
      "provenance": [],
      "include_colab_link": true
    },
    "gpuClass": "standard",
    "kernelspec": {
      "display_name": "Python 3",
      "name": "python3"
    },
    "language_info": {
      "name": "python"
    }
  },
  "nbformat": 4,
  "nbformat_minor": 0
}